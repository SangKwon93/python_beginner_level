{
 "cells": [
  {
   "cell_type": "markdown",
   "metadata": {},
   "source": [
    "# 인스타 크롤링 \n",
    "Flag 변수 말고 함수화 하여 코드 재작성"
   ]
  },
  {
   "cell_type": "code",
   "execution_count": 14,
   "metadata": {},
   "outputs": [],
   "source": [
    "import re\n",
    "import time\n",
    "import pymongo\n",
    "\n",
    "from selenium import webdriver\n",
    "from selenium.webdriver.chrome.service import Service\n",
    "from webdriver_manager.chrome import ChromeDriverManager\n",
    "from selenium.webdriver.common.by import By\n",
    "from selenium.webdriver.support.ui import WebDriverWait\n",
    "from selenium.webdriver.support import expected_conditions as EC"
   ]
  },
  {
   "cell_type": "code",
   "execution_count": 15,
   "metadata": {},
   "outputs": [],
   "source": [
    "def get_chrome_driver():\n",
    "    # 1. 크롬 옵션 세팅\n",
    "    chrome_options = webdriver.ChromeOptions()\n",
    "    \n",
    "    # 2. driver 생성하기\n",
    "    driver = webdriver.Chrome(\n",
    "        service=Service(ChromeDriverManager().install()), # 가장 많이 바뀐 부분\n",
    "        options=chrome_options\n",
    "    )\n",
    "    \n",
    "    return driver\n"
   ]
  },
  {
   "cell_type": "code",
   "execution_count": 16,
   "metadata": {},
   "outputs": [
    {
     "name": "stdout",
     "output_type": "stream",
     "text": [
      "\n"
     ]
    },
    {
     "name": "stderr",
     "output_type": "stream",
     "text": [
      "[WDM] - ====== WebDriver manager ======\n",
      "[WDM] - Current google-chrome version is 104.0.5112\n",
      "[WDM] - Get LATEST chromedriver version for 104.0.5112 google-chrome\n",
      "[WDM] - Driver [C:\\Users\\psk\\.wdm\\drivers\\chromedriver\\win32\\104.0.5112.79\\chromedriver.exe] found in cache\n"
     ]
    }
   ],
   "source": [
    "driver = get_chrome_driver()\n",
    "url ='https://www.instagram.com/'\n",
    "driver.get(url)\n",
    "driver.implicitly_wait(10)\n",
    "# 10초안에 웹페이지를 load하면 바로 넘어간다. 그렇지 않으면 10초 대기\n",
    "#  \"ElementNotVisibleException\" 가 나오면 시간을 조금 더 늘려준다."
   ]
  },
  {
   "cell_type": "code",
   "execution_count": 17,
   "metadata": {},
   "outputs": [],
   "source": [
    " # 로그인\n",
    "driver.find_element(By.XPATH, '//*[@id=\"loginForm\"]/div/div[1]/div/label/input').send_keys('heungminn@naver.com')\n",
    "driver.find_element(By.XPATH, '//*[@id=\"loginForm\"]/div/div[2]/div/label/input').send_keys('multi!1234')\n",
    "driver.find_element(By.XPATH, '//*[@id=\"loginForm\"]/div[1]/div[3]/button/div').click()\n",
    "time.sleep(3)"
   ]
  },
  {
   "cell_type": "code",
   "execution_count": 42,
   "metadata": {},
   "outputs": [],
   "source": [
    "  # 특정 셀럽 계정 접속\n",
    "user = 'apfhda7'\n",
    "url1 = 'https://www.instagram.com/apfhda7/'\n",
    "driver.get(url1)"
   ]
  },
  {
   "cell_type": "code",
   "execution_count": 43,
   "metadata": {},
   "outputs": [
    {
     "data": {
      "text/plain": [
       "['https://www.instagram.com/p/CggiNApvk1b/',\n",
       " 'https://www.instagram.com/p/CgbNSMxpxYw/',\n",
       " 'https://www.instagram.com/p/CgaifcEPW7i/',\n",
       " 'https://www.instagram.com/p/CgQdLzUJ5_t/',\n",
       " 'https://www.instagram.com/p/CgQVd2IP3uO/',\n",
       " 'https://www.instagram.com/p/Cf8grvFPs4n/',\n",
       " 'https://www.instagram.com/p/Cf8gkeLvPGe/',\n",
       " 'https://www.instagram.com/p/Cf8gNO-vEZH/',\n",
       " 'https://www.instagram.com/p/Cf8gFdTvFR2/',\n",
       " 'https://www.instagram.com/p/CRLnFSjJh5C/',\n",
       " 'https://www.instagram.com/p/B3Dx7TUAs0b/']"
      ]
     },
     "execution_count": 43,
     "metadata": {},
     "output_type": "execute_result"
    }
   ],
   "source": [
    "\n",
    "t1 = driver.find_elements(By.CSS_SELECTOR,'._aabd._aa8k._aanf > a')\n",
    "url_lst = [t.get_attribute('href') for t in t1]\n",
    "url_lst"
   ]
  },
  {
   "cell_type": "code",
   "execution_count": 76,
   "metadata": {},
   "outputs": [
    {
     "data": {
      "text/plain": [
       "[<selenium.webdriver.remote.webelement.WebElement (session=\"af5d1ef4e10a7052f02e6bc41c65dfd0\", element=\"3f609b7e-fe98-4531-9361-229578b50f12\")>,\n",
       " <selenium.webdriver.remote.webelement.WebElement (session=\"af5d1ef4e10a7052f02e6bc41c65dfd0\", element=\"ced90d37-911f-4ef2-af4b-37ddb8c84c08\")>]"
      ]
     },
     "execution_count": 76,
     "metadata": {},
     "output_type": "execute_result"
    }
   ],
   "source": [
    "url5='https://www.instagram.com/p/CgQdLzUJ5_t/'\n",
    "driver.get(url5)\n",
    "driver.find_elements(By.CSS_SELECTOR,'._aagv:not(._aa6g)>img')"
   ]
  },
  {
   "cell_type": "code",
   "execution_count": 74,
   "metadata": {},
   "outputs": [
    {
     "name": "stdout",
     "output_type": "stream",
     "text": [
      "https://scontent-gmp1-1.cdninstagram.com/v/t51.2885-15/294416712_395538335930284_918132169382424976_n.jpg?stp=dst-jpg_e35&cb=2d435ae8-ef10543b&_nc_ht=scontent-gmp1-1.cdninstagram.com&_nc_cat=104&_nc_ohc=PdM9Z0OVRdAAX9-2YF5&edm=ALQROFkBAAAA&ccb=7-5&ig_cache_key=Mjg4NjkzNTcxMTAwMTYxMTYxOQ%3D%3D.2-ccb7-5&oh=00_AT__V4BTJgmN1KGiuzEMjPz2eASh072T02c3zy2RUWkU7Q&oe=631558D7&_nc_sid=30a2ef\n"
     ]
    }
   ],
   "source": [
    "url5='https://www.instagram.com/p/CgQdLzUJ5_t/'\n",
    "driver.get(url5)\n",
    "k1 = driver.find_elements(By.CSS_SELECTOR,'._aagv:not(._aa6g)>img')\n",
    "ss =k1[1].get_attribute('src')\n",
    "print(ss)\n"
   ]
  },
  {
   "cell_type": "code",
   "execution_count": 84,
   "metadata": {},
   "outputs": [],
   "source": [
    "image_lst=set()\n",
    "def mover(url):\n",
    "      url1 = 'https://www.instagram.com/apfhda7/'\n",
    "      driver.get(url1)\n",
    "      t1 = driver.find_elements(By.CSS_SELECTOR,'._aabd._aa8k._aanf > a')\n",
    "      url_lst = [t.get_attribute('href') for t in t1]\n",
    "      for url in url_lst:\n",
    "         driver.get(url)\n",
    "         button= driver.find_element(By.CSS_SELECTOR,'._9zm2')\n",
    "         if button :\n",
    "            button.click()\n",
    "            imgs =driver.find_elements(By.CSS_SELECTOR,'._aagv:not(._aa6g)>img')\n",
    "            for i in imgs:\n",
    "               links = i.get_attribute('src')\n",
    "            image_lst.add(links)\n",
    "            time.sleep(1)\n",
    "         if button == False:\n",
    "            driver.find_elements(By.CSS_SELECTOR,'._aagv:not(._aa6g)>img')\n",
    "            return url\n",
    "                  \n",
    "                \n"
   ]
  },
  {
   "cell_type": "code",
   "execution_count": null,
   "metadata": {},
   "outputs": [],
   "source": [
    "# 일부 이미지 url은 가져와지지 않는다.\n",
    "url1 = 'https://www.instagram.com/apfhda7/'\n",
    "driver.get(url1)\n",
    "t1 = driver.find_elements(By.CSS_SELECTOR,'._aabd._aa8k._aanf > a')\n",
    "url_lst = [t.get_attribute('href') for t in t1]\n",
    "for url in url_lst:\n",
    "    driver.get(url)\n",
    "\n",
    "    k2 = driver.find_elements(By.CSS_SELECTOR,'._aagv:not(._aa6g)>img')\n",
    "    for k in k2:\n",
    "        tm= k.get_attribute('src')\n",
    "        print(tm)"
   ]
  },
  {
   "cell_type": "code",
   "execution_count": 89,
   "metadata": {},
   "outputs": [
    {
     "ename": "TypeError",
     "evalue": "unhashable type: 'list'",
     "output_type": "error",
     "traceback": [
      "\u001b[1;31m---------------------------------------------------------------------------\u001b[0m",
      "\u001b[1;31mTypeError\u001b[0m                                 Traceback (most recent call last)",
      "\u001b[1;32mc:\\Users\\psk\\TIL\\practice\\insta_def.ipynb 셀 12\u001b[0m in \u001b[0;36m<cell line: 5>\u001b[1;34m()\u001b[0m\n\u001b[0;32m     <a href='vscode-notebook-cell:/c%3A/Users/psk/TIL/practice/insta_def.ipynb#X10sZmlsZQ%3D%3D?line=14'>15</a>\u001b[0m    k2 \u001b[39m=\u001b[39m driver\u001b[39m.\u001b[39mfind_elements(By\u001b[39m.\u001b[39mCSS_SELECTOR,\u001b[39m'\u001b[39m\u001b[39m._aagv:not(._aa6g)>img\u001b[39m\u001b[39m'\u001b[39m)\n\u001b[0;32m     <a href='vscode-notebook-cell:/c%3A/Users/psk/TIL/practice/insta_def.ipynb#X10sZmlsZQ%3D%3D?line=15'>16</a>\u001b[0m    button\u001b[39m.\u001b[39mclick()\n\u001b[1;32m---> <a href='vscode-notebook-cell:/c%3A/Users/psk/TIL/practice/insta_def.ipynb#X10sZmlsZQ%3D%3D?line=16'>17</a>\u001b[0m    image_lst\u001b[39m.\u001b[39;49madd(k2)\n\u001b[0;32m     <a href='vscode-notebook-cell:/c%3A/Users/psk/TIL/practice/insta_def.ipynb#X10sZmlsZQ%3D%3D?line=18'>19</a>\u001b[0m    time\u001b[39m.\u001b[39msleep(\u001b[39m1\u001b[39m)\n\u001b[0;32m     <a href='vscode-notebook-cell:/c%3A/Users/psk/TIL/practice/insta_def.ipynb#X10sZmlsZQ%3D%3D?line=19'>20</a>\u001b[0m \u001b[39melse\u001b[39;00m:\n",
      "\u001b[1;31mTypeError\u001b[0m: unhashable type: 'list'"
     ]
    }
   ],
   "source": [
    "url1 = 'https://www.instagram.com/apfhda7/'\n",
    "driver.get(url1)\n",
    "t1 = driver.find_elements(By.CSS_SELECTOR,'._aabd._aa8k._aanf > a')\n",
    "url_lst = [t.get_attribute('href') for t in t1]\n",
    "for ul in url_lst:\n",
    "    driver.get(url)\n",
    "    image_lst=set()\n",
    "    k2 = driver.find_elements(By.CSS_SELECTOR,'._aagv:not(._aa6g)>img')\n",
    "    for k in k2:\n",
    "        tm= k.get_attribute('src')\n",
    "        image_lst.add(tm)\n",
    "    button= driver.find_element(By.CSS_SELECTOR,'._9zm2')\n",
    "    while True:\n",
    "      if button :\n",
    "         k2 = driver.find_elements(By.CSS_SELECTOR,'._aagv:not(._aa6g)>img')\n",
    "         button.click()\n",
    "         image_lst.add(k2)\n",
    "\n",
    "         time.sleep(1)\n",
    "      else:\n",
    "         break\n",
    "      print(image_lst)\n",
    "\n",
    "      \n",
    "        \n",
    "    "
   ]
  },
  {
   "cell_type": "code",
   "execution_count": 39,
   "metadata": {},
   "outputs": [
    {
     "name": "stdout",
     "output_type": "stream",
     "text": [
      "[]\n"
     ]
    }
   ],
   "source": [
    "print(image_lst)"
   ]
  },
  {
   "cell_type": "code",
   "execution_count": null,
   "metadata": {},
   "outputs": [],
   "source": []
  }
 ],
 "metadata": {
  "kernelspec": {
   "display_name": "Python 3.9.12 ('base')",
   "language": "python",
   "name": "python3"
  },
  "language_info": {
   "codemirror_mode": {
    "name": "ipython",
    "version": 3
   },
   "file_extension": ".py",
   "mimetype": "text/x-python",
   "name": "python",
   "nbconvert_exporter": "python",
   "pygments_lexer": "ipython3",
   "version": "3.9.12"
  },
  "orig_nbformat": 4,
  "vscode": {
   "interpreter": {
    "hash": "7166505faa8f697867ed099a47ad143e29bdea2dc2abec05983d875f808011d7"
   }
  }
 },
 "nbformat": 4,
 "nbformat_minor": 2
}
